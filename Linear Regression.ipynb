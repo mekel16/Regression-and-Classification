{
 "cells": [
  {
   "cell_type": "code",
   "execution_count": 1,
   "metadata": {},
   "outputs": [],
   "source": [
    "import numpy as np\n",
    "import pandas as pd\n",
    "\n",
    "class LinearRegression:\n",
    "    def __init__(self, max_steps=100, step_size=0.1):\n",
    "        self.max_steps = max_steps\n",
    "        self.step_size = step_size\n",
    "\n",
    "    # Define a method that's our loss\n",
    "    def sum_of_squared_errors(self, y, preds):\n",
    "        return np.sum((preds - y) ** 2)\n",
    "\n",
    "    def fit(self, X, y):\n",
    "        num_samples, num_features = X.shape\n",
    "        # Initialize our weights to zero\n",
    "        self.weights = np.zeros(X.shape[1])\n",
    "\n",
    "        # Make predictions with the initialized weights\n",
    "        preds = self.predict(X)\n",
    "\n",
    "        # Compute the loss with this prediction\n",
    "        current_loss = self.sum_of_squared_errors(y, preds)\n",
    "\n",
    "        # Start running Gradient Descent\n",
    "        for _ in range(self.max_steps):\n",
    "            # Compute the partial derivative of the loss with respect to weights\n",
    "            dw = np.dot(X.T, (preds - y)) * (1 / num_samples)\n",
    "            \n",
    "            # Update our weights with this partial derivative\n",
    "            self.weights -= dw * self.step_size\n",
    "\n",
    "            # Recompute our predictions\n",
    "            preds = self.predict(X)\n",
    "\n",
    "            # Recompute our loss\n",
    "            new_loss = self.sum_of_squared_errors(y, preds)\n",
    "\n",
    "            # We want our loss to go down with each iteration\n",
    "            if new_loss >= current_loss:\n",
    "                break\n",
    "\n",
    "            current_loss = new_loss\n",
    "\n",
    "    def predict(self, X):\n",
    "        # Pass in some values, apply the weights and make a prediction\n",
    "        preds = np.dot(X, self.weights)\n",
    "        return preds\n"
   ]
  },
  {
   "cell_type": "markdown",
   "metadata": {},
   "source": [
    "Now we try to example dataset."
   ]
  },
  {
   "cell_type": "code",
   "execution_count": 2,
   "metadata": {},
   "outputs": [
    {
     "data": {
      "text/html": [
       "<div>\n",
       "<style scoped>\n",
       "    .dataframe tbody tr th:only-of-type {\n",
       "        vertical-align: middle;\n",
       "    }\n",
       "\n",
       "    .dataframe tbody tr th {\n",
       "        vertical-align: top;\n",
       "    }\n",
       "\n",
       "    .dataframe thead th {\n",
       "        text-align: right;\n",
       "    }\n",
       "</style>\n",
       "<table border=\"1\" class=\"dataframe\">\n",
       "  <thead>\n",
       "    <tr style=\"text-align: right;\">\n",
       "      <th></th>\n",
       "      <th>Feature</th>\n",
       "      <th>Target</th>\n",
       "    </tr>\n",
       "  </thead>\n",
       "  <tbody>\n",
       "    <tr>\n",
       "      <th>0</th>\n",
       "      <td>0.157296</td>\n",
       "      <td>5.545396</td>\n",
       "    </tr>\n",
       "    <tr>\n",
       "      <th>1</th>\n",
       "      <td>-0.867824</td>\n",
       "      <td>-62.884123</td>\n",
       "    </tr>\n",
       "    <tr>\n",
       "      <th>2</th>\n",
       "      <td>0.178352</td>\n",
       "      <td>9.593019</td>\n",
       "    </tr>\n",
       "    <tr>\n",
       "      <th>3</th>\n",
       "      <td>-1.149629</td>\n",
       "      <td>-75.173153</td>\n",
       "    </tr>\n",
       "    <tr>\n",
       "      <th>4</th>\n",
       "      <td>-0.360598</td>\n",
       "      <td>-14.798415</td>\n",
       "    </tr>\n",
       "    <tr>\n",
       "      <th>...</th>\n",
       "      <td>...</td>\n",
       "      <td>...</td>\n",
       "    </tr>\n",
       "    <tr>\n",
       "      <th>995</th>\n",
       "      <td>-0.439090</td>\n",
       "      <td>-41.872479</td>\n",
       "    </tr>\n",
       "    <tr>\n",
       "      <th>996</th>\n",
       "      <td>0.168671</td>\n",
       "      <td>12.244196</td>\n",
       "    </tr>\n",
       "    <tr>\n",
       "      <th>997</th>\n",
       "      <td>0.192870</td>\n",
       "      <td>14.412658</td>\n",
       "    </tr>\n",
       "    <tr>\n",
       "      <th>998</th>\n",
       "      <td>1.768221</td>\n",
       "      <td>133.323938</td>\n",
       "    </tr>\n",
       "    <tr>\n",
       "      <th>999</th>\n",
       "      <td>0.553992</td>\n",
       "      <td>42.326179</td>\n",
       "    </tr>\n",
       "  </tbody>\n",
       "</table>\n",
       "<p>1000 rows × 2 columns</p>\n",
       "</div>"
      ],
      "text/plain": [
       "      Feature      Target\n",
       "0    0.157296    5.545396\n",
       "1   -0.867824  -62.884123\n",
       "2    0.178352    9.593019\n",
       "3   -1.149629  -75.173153\n",
       "4   -0.360598  -14.798415\n",
       "..        ...         ...\n",
       "995 -0.439090  -41.872479\n",
       "996  0.168671   12.244196\n",
       "997  0.192870   14.412658\n",
       "998  1.768221  133.323938\n",
       "999  0.553992   42.326179\n",
       "\n",
       "[1000 rows x 2 columns]"
      ]
     },
     "execution_count": 2,
     "metadata": {},
     "output_type": "execute_result"
    }
   ],
   "source": [
    "from sklearn.datasets import make_regression\n",
    "X, y = make_regression(n_samples=1000, n_features=1, noise=10)\n",
    "\n",
    "# maybe you want to see how the data looks like\n",
    "# remember that 'X' is a Feature and 'y' is a Target\n",
    "# so you can make like this:\n",
    "\n",
    "df = pd.DataFrame(data=X, columns=['Feature'])\n",
    "df['Target'] = y\n",
    "df"
   ]
  },
  {
   "cell_type": "markdown",
   "metadata": {},
   "source": [
    "now we can try to split data in to the Train and Tets with skelarn"
   ]
  },
  {
   "cell_type": "code",
   "execution_count": 3,
   "metadata": {},
   "outputs": [],
   "source": [
    "from sklearn.model_selection import train_test_split\n",
    "X_train, X_test, y_train, y_test = train_test_split(X, y, test_size=0.2, random_state=42)\n",
    "\n",
    "# from this we can see that data is split into 80% training and 20% testing\n",
    "# nahh, you can try to training model like this:\n",
    "# we use the model that we make before\n",
    "model = LinearRegression(max_steps=1000, step_size=0.01)\n",
    "# now we fit the model\n",
    "model.fit(X_train, y_train)"
   ]
  },
  {
   "cell_type": "markdown",
   "metadata": {},
   "source": [
    "nah, in the last you can try to predict the test dataset"
   ]
  },
  {
   "cell_type": "code",
   "execution_count": 4,
   "metadata": {},
   "outputs": [
    {
     "name": "stdout",
     "output_type": "stream",
     "text": [
      "Predicted vs Actual values:\n",
      "Predicted: 29.93, Actual: 32.00\n",
      "Predicted: 96.39, Actual: 106.15\n",
      "Predicted: 32.22, Actual: 25.64\n",
      "Predicted: -4.97, Actual: -12.57\n",
      "Predicted: 70.32, Actual: 83.30\n",
      "Predicted: 58.86, Actual: 70.95\n",
      "Predicted: -68.46, Actual: -61.78\n",
      "Predicted: 24.79, Actual: 9.72\n",
      "Predicted: 42.46, Actual: 22.74\n",
      "Predicted: 11.09, Actual: 0.42\n"
     ]
    }
   ],
   "source": [
    "predictions = model.predict(X_test)\n",
    "\n",
    "print(\"Predicted vs Actual values:\")\n",
    "for i in range(10):\n",
    "    print(f\"Predicted: {predictions[i]:.2f}, Actual: {y_test[i]:.2f}\")"
   ]
  },
  {
   "cell_type": "markdown",
   "metadata": {},
   "source": [
    "at this point you can try to make the models better, Thankyouu "
   ]
  }
 ],
 "metadata": {
  "language_info": {
   "name": "python"
  }
 },
 "nbformat": 4,
 "nbformat_minor": 2
}
